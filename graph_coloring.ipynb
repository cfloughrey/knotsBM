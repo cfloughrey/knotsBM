{
 "cells": [
  {
   "cell_type": "code",
   "execution_count": 1,
   "metadata": {},
   "outputs": [],
   "source": [
    "import networkx as nx\n",
    "import numpy as np\n",
    "import pandas as pd\n",
    "from math import sqrt\n",
    "import csv\n",
    "import sys"
   ]
  },
  {
   "cell_type": "code",
   "execution_count": 2,
   "metadata": {},
   "outputs": [],
   "source": [
    "from tqdm.notebook import tqdm"
   ]
  },
  {
   "cell_type": "code",
   "execution_count": 3,
   "metadata": {},
   "outputs": [],
   "source": [
    "from pyBallMapper_Bokeh import graph_GUI, read_graph_from_list"
   ]
  },
  {
   "cell_type": "code",
   "execution_count": 4,
   "metadata": {},
   "outputs": [],
   "source": [
    "from matplotlib.colors import ListedColormap\n",
    "from matplotlib import cm"
   ]
  },
  {
   "cell_type": "code",
   "execution_count": 5,
   "metadata": {},
   "outputs": [],
   "source": [
    "from bokeh.plotting import figure, show"
   ]
  },
  {
   "cell_type": "code",
   "execution_count": 6,
   "metadata": {},
   "outputs": [],
   "source": [
    "# to deal with large csv\n",
    "maxInt = sys.maxsize\n",
    "decrement = True\n",
    "\n",
    "while decrement:\n",
    "    # decrease the maxInt value by factor 10\n",
    "    # as long as the OverflowError occurs.\n",
    "    decrement = False\n",
    "    try:\n",
    "        csv.field_size_limit(maxInt)\n",
    "    except OverflowError:\n",
    "        maxInt = int(maxInt/10)\n",
    "        decrement = True"
   ]
  },
  {
   "cell_type": "markdown",
   "metadata": {},
   "source": [
    "# Jones up to 13"
   ]
  },
  {
   "cell_type": "code",
   "execution_count": 7,
   "metadata": {},
   "outputs": [
    {
     "name": "stdout",
     "output_type": "stream",
     "text": [
      "(12966, 8)\n"
     ]
    }
   ],
   "source": [
    "# table with the coloring functions\n",
    "coloring_df = pd.read_csv('output/jones_13/Jones_upto_13_colors.csv', sep=' ')\n",
    "coloring_df.index = range(1, len(coloring_df)+1)\n",
    "\n",
    "coloring_df['signature_mod4'] = coloring_df.signature % 4\n",
    "\n",
    "\n",
    "#coloring_df['span'] = coloring_df['maximum_exponent'] - coloring_df['minimum_exponent']\n",
    "\n",
    "print(coloring_df.shape)"
   ]
  },
  {
   "cell_type": "code",
   "execution_count": 8,
   "metadata": {},
   "outputs": [
    {
     "data": {
      "text/html": [
       "<div>\n",
       "<style scoped>\n",
       "    .dataframe tbody tr th:only-of-type {\n",
       "        vertical-align: middle;\n",
       "    }\n",
       "\n",
       "    .dataframe tbody tr th {\n",
       "        vertical-align: top;\n",
       "    }\n",
       "\n",
       "    .dataframe thead th {\n",
       "        text-align: right;\n",
       "    }\n",
       "</style>\n",
       "<table border=\"1\" class=\"dataframe\">\n",
       "  <thead>\n",
       "    <tr style=\"text-align: right;\">\n",
       "      <th></th>\n",
       "      <th>number_of_crossings</th>\n",
       "      <th>table_number</th>\n",
       "      <th>is_alternating</th>\n",
       "      <th>signature</th>\n",
       "      <th>minimum_exponent</th>\n",
       "      <th>maximum_exponent</th>\n",
       "      <th>norm</th>\n",
       "      <th>signature_mod4</th>\n",
       "    </tr>\n",
       "  </thead>\n",
       "  <tbody>\n",
       "    <tr>\n",
       "      <th>1</th>\n",
       "      <td>0</td>\n",
       "      <td>1</td>\n",
       "      <td>1</td>\n",
       "      <td>0</td>\n",
       "      <td>0</td>\n",
       "      <td>0</td>\n",
       "      <td>1.000000</td>\n",
       "      <td>0</td>\n",
       "    </tr>\n",
       "    <tr>\n",
       "      <th>2</th>\n",
       "      <td>3</td>\n",
       "      <td>1</td>\n",
       "      <td>1</td>\n",
       "      <td>2</td>\n",
       "      <td>1</td>\n",
       "      <td>4</td>\n",
       "      <td>1.732051</td>\n",
       "      <td>2</td>\n",
       "    </tr>\n",
       "    <tr>\n",
       "      <th>3</th>\n",
       "      <td>4</td>\n",
       "      <td>1</td>\n",
       "      <td>1</td>\n",
       "      <td>0</td>\n",
       "      <td>-2</td>\n",
       "      <td>2</td>\n",
       "      <td>2.236068</td>\n",
       "      <td>0</td>\n",
       "    </tr>\n",
       "    <tr>\n",
       "      <th>4</th>\n",
       "      <td>5</td>\n",
       "      <td>1</td>\n",
       "      <td>1</td>\n",
       "      <td>4</td>\n",
       "      <td>2</td>\n",
       "      <td>7</td>\n",
       "      <td>2.236068</td>\n",
       "      <td>0</td>\n",
       "    </tr>\n",
       "    <tr>\n",
       "      <th>5</th>\n",
       "      <td>5</td>\n",
       "      <td>2</td>\n",
       "      <td>1</td>\n",
       "      <td>2</td>\n",
       "      <td>1</td>\n",
       "      <td>6</td>\n",
       "      <td>3.000000</td>\n",
       "      <td>2</td>\n",
       "    </tr>\n",
       "  </tbody>\n",
       "</table>\n",
       "</div>"
      ],
      "text/plain": [
       "   number_of_crossings  table_number  is_alternating  signature  \\\n",
       "1                    0             1               1          0   \n",
       "2                    3             1               1          2   \n",
       "3                    4             1               1          0   \n",
       "4                    5             1               1          4   \n",
       "5                    5             2               1          2   \n",
       "\n",
       "   minimum_exponent  maximum_exponent      norm  signature_mod4  \n",
       "1                 0                 0  1.000000               0  \n",
       "2                 1                 4  1.732051               2  \n",
       "3                -2                 2  2.236068               0  \n",
       "4                 2                 7  2.236068               0  \n",
       "5                 1                 6  3.000000               2  "
      ]
     },
     "execution_count": 8,
     "metadata": {},
     "output_type": "execute_result"
    }
   ],
   "source": [
    "coloring_df.head()"
   ]
  },
  {
   "cell_type": "code",
   "execution_count": 25,
   "metadata": {},
   "outputs": [
    {
     "name": "stdout",
     "output_type": "stream",
     "text": [
      "loading edgelist\n",
      "loading points covered\n"
     ]
    },
    {
     "data": {
      "application/vnd.jupyter.widget-view+json": {
       "model_id": "7b4b1333f1d3409895f0517097ebba48",
       "version_major": 2,
       "version_minor": 0
      },
      "text/plain": [
       "0it [00:00, ?it/s]"
      ]
     },
     "metadata": {},
     "output_type": "display_data"
    },
    {
     "name": "stdout",
     "output_type": "stream",
     "text": [
      "computing coloring\n"
     ]
    },
    {
     "data": {
      "application/vnd.jupyter.widget-view+json": {
       "model_id": "2912869431cf4473b6d5429afd7924a5",
       "version_major": 2,
       "version_minor": 0
      },
      "text/plain": [
       "  0%|          | 0/97 [00:00<?, ?it/s]"
      ]
     },
     "metadata": {},
     "output_type": "display_data"
    },
    {
     "name": "stdout",
     "output_type": "stream",
     "text": [
      "creating GUI\n",
      "CPU times: user 2.72 s, sys: 58.3 ms, total: 2.77 s\n",
      "Wall time: 3.66 s\n"
     ]
    }
   ],
   "source": [
    "%%time\n",
    "# Prepare Data\n",
    "\n",
    "# adj lists path\n",
    "GRAPH1_PATH = 'output/jones_13/20_edges'\n",
    "\n",
    "# point covered by each node path\n",
    "GRAPH1_POINTS_PATH = 'output/jones_13/20_points_covered_by_landmarks'\n",
    "\n",
    "\n",
    "###########\n",
    "# GRAPH 1 #\n",
    "###########\n",
    "\n",
    "#Here we adopt standard colour palette\n",
    "my_red_palette = cm.get_cmap(name='jet') # multicolor\n",
    "#my_red_palette = cm.get_cmap(name='Reds') # monochrome\n",
    "\n",
    "# read graph\n",
    "# ASSUME NODES ARE NUMBERED FROM 1 TO N\n",
    "G1 = read_graph_from_list(GRAPH1_PATH, GRAPH1_POINTS_PATH,\n",
    "                          coloring_df[['number_of_crossings', 'norm',\n",
    "                                       'signature']],\n",
    "                          add_points_covered=False\n",
    "                          )\n",
    "\n",
    "# create a GUI with input our BM graph, \n",
    "# a dataframe with coloring functions (one value per point in the pointcloud)\n",
    "# and a color palette\n",
    "# in this case we use the pointcloud as coloring function\n",
    "print('creating GUI')\n",
    "my_fancy_gui = graph_GUI(G1, my_red_palette, \n",
    "                         coloring_df[['number_of_crossings', 'norm',\n",
    "                                       'signature',]].columns.to_list(),\n",
    "                         figsize=(800, 600),\n",
    "                         render_iterations=2000)"
   ]
  },
  {
   "cell_type": "code",
   "execution_count": 26,
   "metadata": {},
   "outputs": [
    {
     "name": "stdout",
     "output_type": "stream",
     "text": [
      "color by variable signature \n",
      "MIN_VALUE: -12.000, MAX_VALUE: 12.000\n"
     ]
    },
    {
     "data": {
      "text/plain": [
       "(-12, 12)"
      ]
     },
     "execution_count": 26,
     "metadata": {},
     "output_type": "execute_result"
    }
   ],
   "source": [
    "my_fancy_gui.color_by_variable('signature', MIN_VALUE=-12, MAX_VALUE=+12)\n",
    "                               \n"
   ]
  },
  {
   "cell_type": "code",
   "execution_count": 27,
   "metadata": {},
   "outputs": [],
   "source": [
    "show(my_fancy_gui.plot)"
   ]
  },
  {
   "cell_type": "markdown",
   "metadata": {},
   "source": [
    "### Add a legend"
   ]
  },
  {
   "cell_type": "code",
   "execution_count": 28,
   "metadata": {},
   "outputs": [],
   "source": [
    "from bokeh.models import FixedTicker, LinearColorMapper, LogColorMapper, ColorBar, BasicTicker, LogTicker\n",
    "from matplotlib.colors import to_hex\n"
   ]
  },
  {
   "cell_type": "code",
   "execution_count": 29,
   "metadata": {},
   "outputs": [],
   "source": [
    "# # # continuous colorbar\n",
    "# num_ticks = 100\n",
    "# low = 0\n",
    "# high = 1\n",
    "\n",
    "# color_mapper = LinearColorMapper(palette=[to_hex(my_red_palette(color_id)) \n",
    "#                                           for color_id in np.linspace(0, 1, num_ticks)], \n",
    "#                                  low=low, high=high)\n",
    "\n",
    "\n",
    "# color_bar = ColorBar(color_mapper=color_mapper, \n",
    "#                      major_label_text_font_size='14pt',\n",
    "#                      label_standoff=12,\n",
    "#                     )\n",
    "\n",
    "\n",
    "# # color_mapper = LogColorMapper(palette=[to_hex(my_red_palette(color_id)) \n",
    "# #                                           for color_id in np.linspace(0, 1, num_ticks)], \n",
    "# #                                  low=low, high=high)\n",
    "\n",
    "# # log_ticks = LogTicker(mantissas=[1,2,3,4,5], desired_num_ticks=10)\n",
    "\n",
    "# # color_bar = ColorBar(color_mapper=color_mapper, \n",
    "# #                      major_label_text_font_size='14pt',\n",
    "# #                      label_standoff=12,\n",
    "# #                      ticker=log_ticks\n",
    "# #                     )"
   ]
  },
  {
   "cell_type": "code",
   "execution_count": 30,
   "metadata": {},
   "outputs": [],
   "source": [
    "# discrete colorbar\n",
    "num_ticks = 13\n",
    "low = -13\n",
    "high = 13\n",
    "color_mapper = LinearColorMapper(palette=[to_hex(my_red_palette(color_id)) \n",
    "                                          for color_id in np.linspace(0, 1, num_ticks)], \n",
    "                                 low=low, high=high)\n",
    "\n",
    "ticks = [i for i in range(-12, 13, 2)]\n",
    "color_ticks = FixedTicker(ticks=ticks)\n",
    "\n",
    "color_bar = ColorBar(color_mapper=color_mapper, \n",
    "                     major_label_text_font_size='14pt',\n",
    "                     label_standoff=12,\n",
    "                     ticker=color_ticks,\n",
    "                    )"
   ]
  },
  {
   "cell_type": "code",
   "execution_count": 31,
   "metadata": {},
   "outputs": [],
   "source": [
    "my_fancy_gui.plot.add_layout(color_bar, 'right')"
   ]
  },
  {
   "cell_type": "code",
   "execution_count": 32,
   "metadata": {},
   "outputs": [],
   "source": [
    "show(my_fancy_gui.plot)"
   ]
  },
  {
   "cell_type": "code",
   "execution_count": null,
   "metadata": {},
   "outputs": [],
   "source": []
  }
 ],
 "metadata": {
  "kernelspec": {
   "display_name": "Python 3",
   "language": "python",
   "name": "python3"
  },
  "language_info": {
   "codemirror_mode": {
    "name": "ipython",
    "version": 3
   },
   "file_extension": ".py",
   "mimetype": "text/x-python",
   "name": "python",
   "nbconvert_exporter": "python",
   "pygments_lexer": "ipython3",
   "version": "3.8.6"
  }
 },
 "nbformat": 4,
 "nbformat_minor": 4
}
